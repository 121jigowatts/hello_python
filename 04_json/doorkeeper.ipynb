{
 "cells": [
  {
   "cell_type": "code",
   "execution_count": 1,
   "metadata": {},
   "outputs": [
    {
     "data": {
      "text/plain": [
       "20"
      ]
     },
     "execution_count": 1,
     "metadata": {},
     "output_type": "execute_result"
    }
   ],
   "source": [
    "import requests,json\n",
    "\n",
    "keyword = 'python'\n",
    "url = 'https://api.doorkeeper.jp/events?q={}'.format(keyword)\n",
    "response = requests.get(url)\n",
    "\n",
    "data = json.loads(response.text)\n",
    "#print(data)\n",
    "len(data)"
   ]
  },
  {
   "cell_type": "code",
   "execution_count": 2,
   "metadata": {},
   "outputs": [
    {
     "name": "stdout",
     "output_type": "stream",
     "text": [
      "第28回 CoderDojo 調布\n",
      "現場で使える機械学習システム構築入門\n",
      "機械学習を始めるためのpythonデータ分析実践（機械学習モデル構築）\n",
      "【未経験者歓迎】Pythonで学ぶオブジェクト指向と標準ライブラリ超入門\n",
      "\t★未経験歓迎-SQL講座★AI業界で必須なSQLを一から教えます！\n",
      "【12/17（月）】Pythonで学ぶ機械学習入門②～協調フィルタリング\n",
      "『Python, Machine Learning & Raspberry PI』自主勉強会#10\n",
      "【初級者歓迎】描画スキルを高めるためのseaborn・Plotly入門\n",
      "【初級者歓迎】機械学習のためのMatplotlib徹底演習\n",
      "データ前処理研究会\n",
      "【初級者歓迎】Pythonプログラミング徹底演習\n",
      "20181214 Pythonアルゴリズム勉強会\n",
      "[12/20] 【限定】Pepper Owners Challenge 2018ご応募オーナー様向けPOC交流会　お申し込みフォーム\n",
      "自然言語データ分析ハッカソン\n",
      "[12/15] Pepper 開発 ワークショップ番外編 「Pepper x Azure Face APIで顔認証 ハンズオン」17:00 - 18:55\n",
      "[12/22] Pepper 開発 ワークショップ番外編 「Pepperで学ぶ、はじめてのWatson（Visual Recognition編)」17:00 - 18:50\n",
      "[12/23] Pepper 開発 ワークショップ番外編 「Pepperで学ぶ、はじめてのWatson（Visual Recognition編)」17:00 - 18:50\n",
      "[12/12] 【経験者限定】Pepper 開発タッチ＆トライ  19:00 - 20:50\n",
      "[12/12]Pepper for Biz活用　お仕事かんたん生成2.0 セミナー 19:00 - 19:55\n",
      "[12/12] 【経験者限定】Pepper 開発タッチ＆トライ  17:00 - 18:50\n"
     ]
    }
   ],
   "source": [
    "for content in data:\n",
    "    event = content['event']\n",
    "    #keys:\n",
    "    #['title', 'id', 'starts_at', 'ends_at', 'venue_name', 'address', 'lat', 'long', 'published_at', 'updated_at', 'group', 'description', 'public_url', 'participants', 'waitlisted', 'ticket_limit']\n",
    "    print (event['title'])"
   ]
  }
 ],
 "metadata": {
  "kernelspec": {
   "display_name": "Python 3",
   "language": "python",
   "name": "python3"
  },
  "language_info": {
   "codemirror_mode": {
    "name": "ipython",
    "version": 3
   },
   "file_extension": ".py",
   "mimetype": "text/x-python",
   "name": "python",
   "nbconvert_exporter": "python",
   "pygments_lexer": "ipython3",
   "version": "3.7.0"
  }
 },
 "nbformat": 4,
 "nbformat_minor": 2
}
