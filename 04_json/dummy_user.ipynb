{
 "cells": [
  {
   "cell_type": "code",
   "execution_count": 5,
   "metadata": {},
   "outputs": [
    {
     "data": {
      "text/plain": [
       "{'gender': 'female',\n",
       " 'name': {'title': 'ms', 'first': 'mariam', 'last': 'heier'},\n",
       " 'location': {'street': 'eterveien 6147',\n",
       "  'city': 'torvika',\n",
       "  'state': 'hordaland',\n",
       "  'postcode': '5848',\n",
       "  'coordinates': {'latitude': '53.9914', 'longitude': '41.5147'},\n",
       "  'timezone': {'offset': '-3:00',\n",
       "   'description': 'Brazil, Buenos Aires, Georgetown'}},\n",
       " 'email': 'mariam.heier@example.com',\n",
       " 'login': {'uuid': 'a5f573d6-1eb9-40c9-9073-c93c656e70e0',\n",
       "  'username': 'brownpeacock649',\n",
       "  'password': 'hurley',\n",
       "  'salt': '4RLdVLud',\n",
       "  'md5': '17a197175df46d849c1a7606134fa396',\n",
       "  'sha1': '83769d8ed9a3809a1af0edd3d58a2b115e3ea68d',\n",
       "  'sha256': '3669977848fb21faeefcac09679954ce6270652202f41fc8151e2be7bb287404'},\n",
       " 'dob': {'date': '1955-06-19T02:19:29Z', 'age': 63},\n",
       " 'registered': {'date': '2015-02-20T23:15:48Z', 'age': 3},\n",
       " 'phone': '54940900',\n",
       " 'cell': '45443410',\n",
       " 'id': {'name': 'FN', 'value': '19065505722'},\n",
       " 'picture': {'large': 'https://randomuser.me/api/portraits/women/37.jpg',\n",
       "  'medium': 'https://randomuser.me/api/portraits/med/women/37.jpg',\n",
       "  'thumbnail': 'https://randomuser.me/api/portraits/thumb/women/37.jpg'},\n",
       " 'nat': 'NO'}"
      ]
     },
     "execution_count": 5,
     "metadata": {},
     "output_type": "execute_result"
    }
   ],
   "source": [
    "import requests,json\n",
    "\n",
    "url = 'https://randomuser.me/api'\n",
    "response = requests.get(url)\n",
    "data = json.loads(response.text)\n",
    "\n",
    "user = data['results'][0]\n",
    "user"
   ]
  },
  {
   "cell_type": "code",
   "execution_count": 8,
   "metadata": {},
   "outputs": [
    {
     "name": "stdout",
     "output_type": "stream",
     "text": [
      "female\n",
      "ms mariam heier\n"
     ]
    }
   ],
   "source": [
    "print(user['gender'])\n",
    "print('{} {} {}'.format(user['name']['title'],user['name']['first'],user['name']['last']))"
   ]
  }
 ],
 "metadata": {
  "kernelspec": {
   "display_name": "Python 3",
   "language": "python",
   "name": "python3"
  },
  "language_info": {
   "codemirror_mode": {
    "name": "ipython",
    "version": 3
   },
   "file_extension": ".py",
   "mimetype": "text/x-python",
   "name": "python",
   "nbconvert_exporter": "python",
   "pygments_lexer": "ipython3",
   "version": "3.7.0"
  }
 },
 "nbformat": 4,
 "nbformat_minor": 2
}
