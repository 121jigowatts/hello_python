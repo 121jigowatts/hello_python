{
 "cells": [
  {
   "cell_type": "code",
   "execution_count": 1,
   "metadata": {},
   "outputs": [
    {
     "data": {
      "text/plain": [
       "{'gender': 'female',\n",
       " 'name': {'title': 'miss', 'first': 'peggy', 'last': 'franklin'},\n",
       " 'location': {'street': '6143 washington ave',\n",
       "  'city': 'australian capital territory',\n",
       "  'state': 'queensland',\n",
       "  'postcode': 1092,\n",
       "  'coordinates': {'latitude': '-89.6787', 'longitude': '35.5649'},\n",
       "  'timezone': {'offset': '+9:00',\n",
       "   'description': 'Tokyo, Seoul, Osaka, Sapporo, Yakutsk'}},\n",
       " 'email': 'peggy.franklin@example.com',\n",
       " 'login': {'uuid': 'c41e9f17-71e5-4a3f-9ec5-bc2b6048fc55',\n",
       "  'username': 'goldenpeacock818',\n",
       "  'password': 'sanity72',\n",
       "  'salt': 'f6uNp0e3',\n",
       "  'md5': '053bba9ef353635290188ae6c575ec5e',\n",
       "  'sha1': 'b153623246bcc7848426a18d77a356a5c0fe3f25',\n",
       "  'sha256': '0bf8a01238c667227e6de0348103ff114921480be21fa4899a61a668e4d45d21'},\n",
       " 'dob': {'date': '1953-03-21T20:30:46Z', 'age': 65},\n",
       " 'registered': {'date': '2013-06-15T06:38:11Z', 'age': 5},\n",
       " 'phone': '00-2597-3376',\n",
       " 'cell': '0496-748-537',\n",
       " 'id': {'name': 'TFN', 'value': '080445349'},\n",
       " 'picture': {'large': 'https://randomuser.me/api/portraits/women/42.jpg',\n",
       "  'medium': 'https://randomuser.me/api/portraits/med/women/42.jpg',\n",
       "  'thumbnail': 'https://randomuser.me/api/portraits/thumb/women/42.jpg'},\n",
       " 'nat': 'AU'}"
      ]
     },
     "execution_count": 1,
     "metadata": {},
     "output_type": "execute_result"
    }
   ],
   "source": [
    "import requests,json\n",
    "\n",
    "url = 'https://randomuser.me/api'\n",
    "response = requests.get(url)\n",
    "data = json.loads(response.text)\n",
    "\n",
    "user = data['results'][0]\n",
    "user"
   ]
  },
  {
   "cell_type": "code",
   "execution_count": 2,
   "metadata": {},
   "outputs": [
    {
     "name": "stdout",
     "output_type": "stream",
     "text": [
      "female\n",
      "miss peggy franklin\n"
     ]
    }
   ],
   "source": [
    "print(user['gender'])\n",
    "print('{} {} {}'.format(user['name']['title'],user['name']['first'],user['name']['last']))"
   ]
  }
 ],
 "metadata": {
  "kernelspec": {
   "display_name": "Python 3",
   "language": "python",
   "name": "python3"
  },
  "language_info": {
   "codemirror_mode": {
    "name": "ipython",
    "version": 3
   },
   "file_extension": ".py",
   "mimetype": "text/x-python",
   "name": "python",
   "nbconvert_exporter": "python",
   "pygments_lexer": "ipython3",
   "version": "3.7.0"
  }
 },
 "nbformat": 4,
 "nbformat_minor": 2
}
