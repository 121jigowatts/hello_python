{
 "cells": [
  {
   "cell_type": "code",
   "execution_count": 1,
   "metadata": {},
   "outputs": [
    {
     "name": "stdout",
     "output_type": "stream",
     "text": [
      "7830060\n",
      "zipcode:7830060\n"
     ]
    }
   ],
   "source": [
    "zipcode = input()\n",
    "print ('zipcode:{}'.format(zipcode))"
   ]
  },
  {
   "cell_type": "code",
   "execution_count": 2,
   "metadata": {},
   "outputs": [
    {
     "name": "stdout",
     "output_type": "stream",
     "text": [
      "{'message': None, 'results': [{'address1': '高知県', 'address2': '南国市', 'address3': '蛍が丘', 'kana1': 'ｺｳﾁｹﾝ', 'kana2': 'ﾅﾝｺｸｼ', 'kana3': 'ﾎﾀﾙｶﾞｵｶ', 'prefcode': '39', 'zipcode': '7830060'}], 'status': 200}\n"
     ]
    },
    {
     "data": {
      "text/plain": [
       "'高知県 南国市 蛍が丘'"
      ]
     },
     "execution_count": 2,
     "metadata": {},
     "output_type": "execute_result"
    }
   ],
   "source": [
    "import requests,json\n",
    "\n",
    "url = 'http://zipcloud.ibsnet.co.jp/api/search?zipcode={}'.format(zipcode)\n",
    "response = requests.get(url)\n",
    "data = json.loads(response.text)\n",
    "\n",
    "print (data)\n",
    "result = data['results'][0]\n",
    "'{} {} {}'.format(result['address1'],result['address2'],result['address3'])"
   ]
  }
 ],
 "metadata": {
  "kernelspec": {
   "display_name": "Python 3",
   "language": "python",
   "name": "python3"
  },
  "language_info": {
   "codemirror_mode": {
    "name": "ipython",
    "version": 3
   },
   "file_extension": ".py",
   "mimetype": "text/x-python",
   "name": "python",
   "nbconvert_exporter": "python",
   "pygments_lexer": "ipython3",
   "version": "3.7.0"
  }
 },
 "nbformat": 4,
 "nbformat_minor": 2
}
