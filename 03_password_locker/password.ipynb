{
 "cells": [
  {
   "cell_type": "markdown",
   "metadata": {},
   "source": [
    "# pyperclipモジュール\n",
    "\n",
    "- copy()\n",
    "- paste()"
   ]
  },
  {
   "cell_type": "code",
   "execution_count": 3,
   "metadata": {},
   "outputs": [
    {
     "data": {
      "text/plain": [
       "'Hello world!'"
      ]
     },
     "execution_count": 3,
     "metadata": {},
     "output_type": "execute_result"
    }
   ],
   "source": [
    "import pyperclip\n",
    "pyperclip.copy('Hello world!')\n",
    "pyperclip.paste()"
   ]
  },
  {
   "cell_type": "markdown",
   "metadata": {},
   "source": [
    "# 複数のパスワード管理"
   ]
  },
  {
   "cell_type": "code",
   "execution_count": 7,
   "metadata": {},
   "outputs": [
    {
     "name": "stdout",
     "output_type": "stream",
     "text": [
      "取得するパスワードを入力してください。\n",
      "あああ\n",
      "存在しない🗝です。\n"
     ]
    }
   ],
   "source": [
    "PASSWORDS = {'google':'google_password',\n",
    "           'yahoo':'yahoo_password',\n",
    "            'twitter':'twitter_password'\n",
    "           }\n",
    "\n",
    "print('取得するパスワードを入力してください。')\n",
    "key = input()\n",
    "\n",
    "if key in PASSWORDS:\n",
    "    pyperclip.copy(PASSWORDS[key])\n",
    "    print(key + ':🗝を📋にCOPYしました。')\n",
    "else:\n",
    "    print('存在しない🗝です。')\n"
   ]
  }
 ],
 "metadata": {
  "kernelspec": {
   "display_name": "Python 3",
   "language": "python",
   "name": "python3"
  },
  "language_info": {
   "codemirror_mode": {
    "name": "ipython",
    "version": 3
   },
   "file_extension": ".py",
   "mimetype": "text/x-python",
   "name": "python",
   "nbconvert_exporter": "python",
   "pygments_lexer": "ipython3",
   "version": "3.7.0"
  }
 },
 "nbformat": 4,
 "nbformat_minor": 2
}
