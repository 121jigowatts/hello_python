{
 "cells": [
  {
   "cell_type": "code",
   "execution_count": 1,
   "metadata": {
    "collapsed": true
   },
   "outputs": [
    {
     "name": "stdout",
     "output_type": "stream",
     "text": [
      "1\n",
      "2\n",
      "fizz\n",
      "4\n",
      "buzz\n",
      "fizz\n",
      "7\n",
      "8\n",
      "fizz\n",
      "buzz\n",
      "11\n",
      "fizz\n",
      "13\n",
      "14\n",
      "fizz buzz\n",
      "16\n",
      "17\n",
      "fizz\n",
      "19\n",
      "buzz\n",
      "fizz\n",
      "22\n",
      "23\n",
      "fizz\n",
      "buzz\n",
      "26\n",
      "fizz\n",
      "28\n",
      "29\n",
      "fizz buzz\n",
      "31\n",
      "32\n",
      "fizz\n",
      "34\n",
      "buzz\n",
      "fizz\n",
      "37\n",
      "38\n",
      "fizz\n",
      "buzz\n",
      "CPU times: user 3.28 ms, sys: 1.91 ms, total: 5.2 ms\n",
      "Wall time: 3.49 ms\n"
     ]
    }
   ],
   "source": [
    "%%time\n",
    "for i in range(1, 41):\n",
    "    if (i%15 == 0):\n",
    "        print('fizz buzz')\n",
    "    elif (i%3 == 0):\n",
    "        print('fizz')\n",
    "    elif (i%5 == 0):\n",
    "        print('buzz')\n",
    "    else:\n",
    "        print(i)\n"
   ]
  },
  {
   "cell_type": "code",
   "execution_count": 2,
   "metadata": {},
   "outputs": [],
   "source": [
    "def fizzBuzz(i):\n",
    "    if (i <= 0):\n",
    "        return 'out of range.'\n",
    "    \n",
    "    if (i%15 == 0):\n",
    "        return 'fizz buzz'\n",
    "    elif (i%3 == 0):\n",
    "        return 'fizz'\n",
    "    elif (i%5 == 0):\n",
    "        return 'buzz'\n",
    "    else:\n",
    "        return str(i)\n",
    "    \n",
    "assert fizzBuzz(3) == 'fizz','fizzBuzzは3でfizzを返す'\n",
    "assert fizzBuzz(5) == 'buzz','fizzBuzzは5でbuzzを返す'\n",
    "assert fizzBuzz(15) == 'fizz buzz','fizzBuzzは15でfizz buzzを返す'\n",
    "assert fizzBuzz(4) == '4','fizzBuzzは4で4を返す'\n",
    "assert fizzBuzz(0) == 'out of range.', 'fizzBuzzは0でout of range.を返す'\n",
    "assert fizzBuzz(-1) == 'out of range.', 'fizzBuzzは-1でout of range.を返す'\n"
   ]
  },
  {
   "cell_type": "code",
   "execution_count": 3,
   "metadata": {},
   "outputs": [
    {
     "name": "stdout",
     "output_type": "stream",
     "text": [
      "1,2,fizz,4,buzz,fizz,7,8,fizz,buzz,11,fizz,13,14,fizz buzz,16,17,fizz,19,buzz,fizz,22,23,fizz,buzz,26,fizz,28,29,fizz buzz,31,32,fizz,34,buzz,fizz,37,38,fizz,buzz,41,fizz,43,44,fizz buzz,46,47,fizz,49,buzz,fizz,52,53,fizz,buzz,56,fizz,58,59,fizz buzz,61,62,fizz,64,buzz,fizz,67,68,fizz,buzz,71,fizz,73,74,fizz buzz,76,77,fizz,79,buzz,fizz,82,83,fizz,buzz,86,fizz,88,89,fizz buzz,91,92,fizz,94,buzz,fizz,97,98,fizz,buzz\n",
      "CPU times: user 2.15 ms, sys: 1.95 ms, total: 4.1 ms\n",
      "Wall time: 3.44 ms\n"
     ]
    }
   ],
   "source": [
    "%%time\n",
    "result = []\n",
    "for i in range(1, 101):\n",
    "    result.append(fizzBuzz(i))\n",
    "\n",
    "print(','.join(result))"
   ]
  }
 ],
 "metadata": {
  "kernelspec": {
   "display_name": "Python 3",
   "language": "python",
   "name": "python3"
  },
  "language_info": {
   "codemirror_mode": {
    "name": "ipython",
    "version": 3
   },
   "file_extension": ".py",
   "mimetype": "text/x-python",
   "name": "python",
   "nbconvert_exporter": "python",
   "pygments_lexer": "ipython3",
   "version": "3.7.0"
  }
 },
 "nbformat": 4,
 "nbformat_minor": 2
}
