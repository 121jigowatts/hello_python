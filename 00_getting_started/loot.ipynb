{
 "cells": [
  {
   "cell_type": "code",
   "execution_count": 3,
   "metadata": {},
   "outputs": [
    {
     "name": "stdout",
     "output_type": "stream",
     "text": [
      "item list\n",
      "10 Hi-Potion\n",
      "1 Sapphire\n",
      "2 Dragon Fruit\n",
      "total:13\n"
     ]
    }
   ],
   "source": [
    "def display_inventory(inventory):\n",
    "    print('item list')\n",
    "    total = 0\n",
    "    for k, v in inventory.items():\n",
    "        print(str(v) + ' ' + k)\n",
    "        total += v\n",
    "    \n",
    "    print('total:' + str(total))\n",
    "\n",
    "stuff = {'Hi-Potion':10,'Sapphire':1,'Dragon Fruit':2}\n",
    "display_inventory(stuff)      "
   ]
  },
  {
   "cell_type": "code",
   "execution_count": 8,
   "metadata": {},
   "outputs": [
    {
     "name": "stdout",
     "output_type": "stream",
     "text": [
      "item list\n",
      "12 Hi-Potion\n",
      "3 Sapphire\n",
      "2 Dragon Fruit\n",
      "1 Masamune\n",
      "total:18\n"
     ]
    }
   ],
   "source": [
    "def add_to_inventory(inventory,items):\n",
    "    for item in items:\n",
    "        if (item in inventory.keys()):\n",
    "            inventory[item] += 1\n",
    "        else:\n",
    "            inventory[item] = 1\n",
    "            \n",
    "    return inventory\n",
    "\n",
    "stuff = {'Hi-Potion':10,'Sapphire':1,'Dragon Fruit':2}\n",
    "dragon_loot = ['Sapphire','Sapphire','Masamune','Hi-Potion','Hi-Potion']\n",
    "stuff = add_to_inventory(stuff,dragon_loot)\n",
    "display_inventory(stuff)"
   ]
  }
 ],
 "metadata": {
  "kernelspec": {
   "display_name": "Python 3",
   "language": "python",
   "name": "python3"
  },
  "language_info": {
   "codemirror_mode": {
    "name": "ipython",
    "version": 3
   },
   "file_extension": ".py",
   "mimetype": "text/x-python",
   "name": "python",
   "nbconvert_exporter": "python",
   "pygments_lexer": "ipython3",
   "version": "3.7.0"
  }
 },
 "nbformat": 4,
 "nbformat_minor": 2
}
