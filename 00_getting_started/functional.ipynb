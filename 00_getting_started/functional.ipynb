{
 "cells": [
  {
   "cell_type": "code",
   "execution_count": 3,
   "metadata": {},
   "outputs": [
    {
     "name": "stdout",
     "output_type": "stream",
     "text": [
      "gfedcba\n",
      "gfedcba\n",
      "g\n",
      "f\n",
      "e\n",
      "d\n",
      "c\n",
      "b\n",
      "a\n"
     ]
    }
   ],
   "source": [
    "str = 'abcdefg'\n",
    "\n",
    "# オブジェクト指向スタイル\n",
    "str_list = list(str)\n",
    "str_list.reverse()\n",
    "\n",
    "print (''.join(str_list))\n",
    "\n",
    "# 関数型スタイル\n",
    "print (''.join(reversed(str)))\n",
    "\n",
    "for item in reversed(str):\n",
    "    print (item)"
   ]
  },
  {
   "cell_type": "code",
   "execution_count": 15,
   "metadata": {},
   "outputs": [
    {
     "name": "stdout",
     "output_type": "stream",
     "text": [
      "6\n",
      "[('jkl', 0, 1, 2), ('abc', 1, 2, 3), ('ghi', 4, 1, 1), ('def', 4, 5, 6)]\n",
      "[('def', 4, 5, 6), ('abc', 1, 2, 3), ('ghi', 4, 1, 1), ('jkl', 0, 1, 2)]\n"
     ]
    }
   ],
   "source": [
    "# タプルとスライス\n",
    "tup = ('abc',1,2,3,4,5)\n",
    "print (sum(tup[1:4]))\n",
    "\n",
    "# lambda式\n",
    "list = [('abc',1,2,3),('def',4,5,6),('ghi',4,1,1),('jkl',0,1,2)]\n",
    "list.sort(key=lambda tup: sum(tup[1:4]), reverse=False)\n",
    "print (list)\n",
    "\n",
    "print (sorted(list, key=lambda tup: sum(tup[1:4]), reverse=True))"
   ]
  },
  {
   "cell_type": "code",
   "execution_count": 35,
   "metadata": {},
   "outputs": [
    {
     "name": "stdout",
     "output_type": "stream",
     "text": [
      "[1, 4, 9, 16, 25]\n",
      "[16, 25]\n",
      "{'b': 4, 'c': 9}\n"
     ]
    },
    {
     "data": {
      "text/plain": [
       "set"
      ]
     },
     "execution_count": 35,
     "metadata": {},
     "output_type": "execute_result"
    }
   ],
   "source": [
    "list = [1,2,3,4,5]\n",
    "\n",
    "# リストコンプリヘンション\n",
    "print ( [(n**2) for n in list] )\n",
    "\n",
    "print ([(n**2) for n in list if n > 3])\n",
    "\n",
    "\n",
    "dict = {'a':1,'b':2,'c':3}\n",
    "\n",
    "# ディクショナリコンプリヘンション\n",
    "print ({key:val**2 for key,val in dict.items() if val > 1 })\n",
    "\n",
    "people = ['alice','bob','coby','dave']\n",
    "{person.up for person in people}"
   ]
  }
 ],
 "metadata": {
  "kernelspec": {
   "display_name": "Python 3",
   "language": "python",
   "name": "python3"
  },
  "language_info": {
   "codemirror_mode": {
    "name": "ipython",
    "version": 3
   },
   "file_extension": ".py",
   "mimetype": "text/x-python",
   "name": "python",
   "nbconvert_exporter": "python",
   "pygments_lexer": "ipython3",
   "version": "3.7.0"
  }
 },
 "nbformat": 4,
 "nbformat_minor": 2
}
