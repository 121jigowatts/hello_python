{
 "cells": [
  {
   "cell_type": "code",
   "execution_count": 1,
   "metadata": {},
   "outputs": [],
   "source": [
    "#奇数\n",
    "def isOdd(number):\n",
    "    if number % 2 == 1:\n",
    "        return True\n",
    "    else:\n",
    "        return False\n",
    "\n",
    "assert isOdd(1) == True\n",
    "assert isOdd(2) == False\n",
    "assert isOdd(-1) == True\n",
    "assert isOdd(0) == False"
   ]
  },
  {
   "cell_type": "code",
   "execution_count": 2,
   "metadata": {},
   "outputs": [],
   "source": [
    "#偶数\n",
    "def isEven(number):\n",
    "    if number % 2 == 0:\n",
    "        return True\n",
    "    else:\n",
    "        return False\n",
    "\n",
    "assert isEven(1) == False\n",
    "assert isEven(2) == True\n",
    "assert isEven(-1) == False\n",
    "assert isEven(0) == True"
   ]
  },
  {
   "cell_type": "code",
   "execution_count": 3,
   "metadata": {},
   "outputs": [
    {
     "name": "stdout",
     "output_type": "stream",
     "text": [
      "2\n",
      "1\n"
     ]
    }
   ],
   "source": [
    "def collatz(number):\n",
    "    try:\n",
    "        inum = int(number)\n",
    "    except:\n",
    "        print('type error...:' + str(number))\n",
    "        return\n",
    "    \n",
    "    if (inum < 1):\n",
    "        print('１以上の正数:' + str(number))\n",
    "        return\n",
    "\n",
    "    print(inum)\n",
    "    \n",
    "    if inum == 1:\n",
    "        return\n",
    "    elif isEven(inum):\n",
    "        collatz(inum / 2)\n",
    "    elif isOdd(inum):\n",
    "        collatz(3 * inum + 1)\n",
    "    else:\n",
    "        print(inum)\n",
    "    \n",
    "collatz(2)"
   ]
  },
  {
   "cell_type": "code",
   "execution_count": 4,
   "metadata": {},
   "outputs": [
    {
     "name": "stdout",
     "output_type": "stream",
     "text": [
      "１以上の正数:-1\n",
      "type error...:aaa\n"
     ]
    }
   ],
   "source": [
    "collatz(-1)\n",
    "collatz('aaa')\n"
   ]
  },
  {
   "cell_type": "code",
   "execution_count": 5,
   "metadata": {},
   "outputs": [
    {
     "name": "stdout",
     "output_type": "stream",
     "text": [
      "22\n",
      "22\n",
      "11\n",
      "34\n",
      "17\n",
      "52\n",
      "26\n",
      "13\n",
      "40\n",
      "20\n",
      "10\n",
      "5\n",
      "16\n",
      "8\n",
      "4\n",
      "2\n",
      "1\n"
     ]
    }
   ],
   "source": [
    "number = input()\n",
    "collatz(number)\n",
    "\n"
   ]
  }
 ],
 "metadata": {
  "kernelspec": {
   "display_name": "Python 3",
   "language": "python",
   "name": "python3"
  },
  "language_info": {
   "codemirror_mode": {
    "name": "ipython",
    "version": 3
   },
   "file_extension": ".py",
   "mimetype": "text/x-python",
   "name": "python",
   "nbconvert_exporter": "python",
   "pygments_lexer": "ipython3",
   "version": "3.7.0"
  }
 },
 "nbformat": 4,
 "nbformat_minor": 2
}
