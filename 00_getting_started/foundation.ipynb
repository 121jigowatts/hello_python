{
 "cells": [
  {
   "cell_type": "markdown",
   "metadata": {},
   "source": [
    "# Hello World!"
   ]
  },
  {
   "cell_type": "code",
   "execution_count": 1,
   "metadata": {},
   "outputs": [
    {
     "name": "stdout",
     "output_type": "stream",
     "text": [
      "Hello World!\n"
     ]
    }
   ],
   "source": [
    "print('Hello World!')"
   ]
  },
  {
   "cell_type": "markdown",
   "metadata": {},
   "source": [
    "# help"
   ]
  },
  {
   "cell_type": "code",
   "execution_count": 2,
   "metadata": {},
   "outputs": [
    {
     "name": "stdout",
     "output_type": "stream",
     "text": [
      "\n",
      "Welcome to Python 3.7's help utility!\n",
      "\n",
      "If this is your first time using Python, you should definitely check out\n",
      "the tutorial on the Internet at https://docs.python.org/3.7/tutorial/.\n",
      "\n",
      "Enter the name of any module, keyword, or topic to get help on writing\n",
      "Python programs and using Python modules.  To quit this help utility and\n",
      "return to the interpreter, just type \"quit\".\n",
      "\n",
      "To get a list of available modules, keywords, symbols, or topics, type\n",
      "\"modules\", \"keywords\", \"symbols\", or \"topics\".  Each module also comes\n",
      "with a one-line summary of what it does; to list the modules whose name\n",
      "or summary contain a given string such as \"spam\", type \"modules spam\".\n",
      "\n",
      "help> quit\n",
      "\n",
      "You are now leaving help and returning to the Python interpreter.\n",
      "If you want to ask for help on a particular object directly from the\n",
      "interpreter, you can type \"help(object)\".  Executing \"help('string')\"\n",
      "has the same effect as typing a particular string at the help> prompt.\n"
     ]
    }
   ],
   "source": [
    "help()"
   ]
  },
  {
   "cell_type": "markdown",
   "metadata": {},
   "source": [
    "# 数値"
   ]
  },
  {
   "cell_type": "code",
   "execution_count": 3,
   "metadata": {},
   "outputs": [
    {
     "name": "stdout",
     "output_type": "stream",
     "text": [
      "30.0\n"
     ]
    }
   ],
   "source": [
    "# 四則演算\n",
    "num = 2 + 1\n",
    "num = num - 1\n",
    "num = num * 60\n",
    "num = num / 4\n",
    "\n",
    "print(str(num))"
   ]
  },
  {
   "cell_type": "markdown",
   "metadata": {},
   "source": [
    "# 文字列"
   ]
  },
  {
   "cell_type": "code",
   "execution_count": 20,
   "metadata": {},
   "outputs": [
    {
     "name": "stdout",
     "output_type": "stream",
     "text": [
      "atringa\n",
      "5\n",
      "['alice', 'bob', 'nancy']\n"
     ]
    }
   ],
   "source": [
    "mystring = 'strings'\n",
    "\n",
    "replaceString = mystring.replace('s','a')\n",
    "print(replaceString)\n",
    "print(mystring.find('g'))\n",
    "\n",
    "users = 'alice,bob,nancy'\n",
    "userList = users.split(',')\n",
    "print(userList)"
   ]
  },
  {
   "cell_type": "markdown",
   "metadata": {},
   "source": [
    "# リスト"
   ]
  },
  {
   "cell_type": "code",
   "execution_count": 16,
   "metadata": {},
   "outputs": [
    {
     "name": "stdout",
     "output_type": "stream",
     "text": [
      "[2, 3]\n",
      "32\n",
      "13\n",
      "1\n",
      "6\n"
     ]
    }
   ],
   "source": [
    "list = [1,2,3,5,8,13]\n",
    "\n",
    "\n",
    "# スライス\n",
    "slice = list[1:3]\n",
    "print(slice)\n",
    "\n",
    "print(sum(list))\n",
    "print(max(list))\n",
    "print(min(list))\n",
    "print(len(list))"
   ]
  },
  {
   "cell_type": "markdown",
   "metadata": {},
   "source": [
    "# モジュールのインポート"
   ]
  },
  {
   "cell_type": "code",
   "execution_count": 6,
   "metadata": {},
   "outputs": [
    {
     "name": "stdout",
     "output_type": "stream",
     "text": [
      "numpy:0.49999999999999994\n",
      "math:0.49999999999999994\n"
     ]
    }
   ],
   "source": [
    "import numpy\n",
    "from_numpy = numpy.sin(numpy.radians(30))\n",
    "print('numpy:' + str(from_numpy))\n",
    "\n",
    "from math import sin,radians\n",
    "from_math = sin(radians(30))\n",
    "print('math:' + str(from_math))"
   ]
  },
  {
   "cell_type": "markdown",
   "metadata": {},
   "source": [
    "# for文"
   ]
  },
  {
   "cell_type": "code",
   "execution_count": 7,
   "metadata": {},
   "outputs": [
    {
     "name": "stdout",
     "output_type": "stream",
     "text": [
      "1\n",
      "2\n",
      "3\n",
      "4\n",
      "5\n",
      "6\n",
      "7\n",
      "8\n",
      "9\n"
     ]
    }
   ],
   "source": [
    "for item in range(1,10):\n",
    "    print(str(item))"
   ]
  },
  {
   "cell_type": "markdown",
   "metadata": {},
   "source": [
    "# if文"
   ]
  },
  {
   "cell_type": "code",
   "execution_count": 8,
   "metadata": {},
   "outputs": [
    {
     "name": "stdout",
     "output_type": "stream",
     "text": [
      "boo\n"
     ]
    }
   ],
   "source": [
    "hoge = 'banana'\n",
    "\n",
    "if hoge == 'apple':\n",
    "    print('Like!')\n",
    "elif hoge == 'grape':\n",
    "    print('Great.')\n",
    "else:\n",
    "    print('boo')\n",
    "    "
   ]
  },
  {
   "cell_type": "markdown",
   "metadata": {},
   "source": [
    "# 関数"
   ]
  },
  {
   "cell_type": "code",
   "execution_count": 9,
   "metadata": {},
   "outputs": [
    {
     "name": "stdout",
     "output_type": "stream",
     "text": [
      "buttered toast\n"
     ]
    }
   ],
   "source": [
    "foodstuff = ['bread','butter']\n",
    "\n",
    "def cooking(foodstuff):\n",
    "    if foodstuff == ['bread','butter']:\n",
    "        print('buttered toast')\n",
    "    elif foodstuff == ['bread','boiled sausage']:\n",
    "        print('hotdog')\n",
    "    else:\n",
    "        print('mistake!')\n",
    "\n",
    "cooking(foodstuff)\n",
    "        "
   ]
  },
  {
   "cell_type": "markdown",
   "metadata": {},
   "source": [
    "# クラス"
   ]
  },
  {
   "cell_type": "code",
   "execution_count": 10,
   "metadata": {},
   "outputs": [
    {
     "name": "stdout",
     "output_type": "stream",
     "text": [
      "hotdog\n"
     ]
    }
   ],
   "source": [
    "class Breakfast:\n",
    "    def cooking(self,foodstuff):\n",
    "        if foodstuff == ['bread','butter']:\n",
    "            print('buttered toast')\n",
    "        elif foodstuff == ['bread','boiled sausage']:\n",
    "            print('hotdog')\n",
    "        else:\n",
    "            print('mistake!')\n",
    "\n",
    "foodstuff = ['bread','boiled sausage']\n",
    "breakfast = Breakfast()\n",
    "breakfast.cooking(foodstuff)"
   ]
  }
 ],
 "metadata": {
  "kernelspec": {
   "display_name": "Python 3",
   "language": "python",
   "name": "python3"
  },
  "language_info": {
   "codemirror_mode": {
    "name": "ipython",
    "version": 3
   },
   "file_extension": ".py",
   "mimetype": "text/x-python",
   "name": "python",
   "nbconvert_exporter": "python",
   "pygments_lexer": "ipython3",
   "version": "3.7.0"
  }
 },
 "nbformat": 4,
 "nbformat_minor": 2
}
